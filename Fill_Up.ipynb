{
  "nbformat": 4,
  "nbformat_minor": 0,
  "metadata": {
    "colab": {
      "provenance": []
    },
    "kernelspec": {
      "name": "python3",
      "display_name": "Python 3"
    },
    "language_info": {
      "name": "python"
    }
  },
  "cells": [
    {
      "cell_type": "code",
      "execution_count": 13,
      "metadata": {
        "colab": {
          "base_uri": "https://localhost:8080/"
        },
        "id": "5VP2lSi6lKHC",
        "outputId": "fee05954-72d5-45da-aaaa-fe8b593c2e7a"
      },
      "outputs": [
        {
          "output_type": "stream",
          "name": "stdout",
          "text": [
            "\u001b[33mWARNING: Ignoring invalid distribution -etworkx (/usr/local/lib/python3.10/dist-packages)\u001b[0m\u001b[33m\n",
            "\u001b[0m\u001b[33mWARNING: Ignoring invalid distribution -etworkx (/usr/local/lib/python3.10/dist-packages)\u001b[0m\u001b[33m\n",
            "\u001b[0m\u001b[33mWARNING: Ignoring invalid distribution -etworkx (/usr/local/lib/python3.10/dist-packages)\u001b[0m\u001b[33m\n",
            "\u001b[0mCollecting git+https://github.com/boudinfl/pke.git\n",
            "  Cloning https://github.com/boudinfl/pke.git to /tmp/pip-req-build-_59aexv8\n",
            "  Running command git clone --filter=blob:none --quiet https://github.com/boudinfl/pke.git /tmp/pip-req-build-_59aexv8\n",
            "  Resolved https://github.com/boudinfl/pke.git to commit 69871ffdb720b83df23684fea53ec8776fd87e63\n",
            "  Preparing metadata (setup.py) ... \u001b[?25l\u001b[?25hdone\n",
            "Requirement already satisfied: nltk in /usr/local/lib/python3.10/dist-packages (from pke==2.0.0) (3.8.1)\n",
            "Requirement already satisfied: networkx in /usr/local/lib/python3.10/dist-packages (from pke==2.0.0) (2.6)\n",
            "Requirement already satisfied: numpy in /usr/local/lib/python3.10/dist-packages (from pke==2.0.0) (1.24.4)\n",
            "Requirement already satisfied: scipy in /usr/local/lib/python3.10/dist-packages (from pke==2.0.0) (1.8.0)\n",
            "Requirement already satisfied: scikit-learn in /usr/local/lib/python3.10/dist-packages (from pke==2.0.0) (1.2.2)\n",
            "Requirement already satisfied: unidecode in /usr/local/lib/python3.10/dist-packages (from pke==2.0.0) (1.3.8)\n",
            "Requirement already satisfied: future in /usr/local/lib/python3.10/dist-packages (from pke==2.0.0) (0.18.3)\n",
            "Requirement already satisfied: joblib in /usr/local/lib/python3.10/dist-packages (from pke==2.0.0) (1.4.2)\n",
            "Requirement already satisfied: spacy>=3.2.3 in /usr/local/lib/python3.10/dist-packages (from pke==2.0.0) (3.7.5)\n",
            "Requirement already satisfied: spacy-legacy<3.1.0,>=3.0.11 in /usr/local/lib/python3.10/dist-packages (from spacy>=3.2.3->pke==2.0.0) (3.0.12)\n",
            "Requirement already satisfied: spacy-loggers<2.0.0,>=1.0.0 in /usr/local/lib/python3.10/dist-packages (from spacy>=3.2.3->pke==2.0.0) (1.0.5)\n",
            "Requirement already satisfied: murmurhash<1.1.0,>=0.28.0 in /usr/local/lib/python3.10/dist-packages (from spacy>=3.2.3->pke==2.0.0) (1.0.10)\n",
            "Requirement already satisfied: cymem<2.1.0,>=2.0.2 in /usr/local/lib/python3.10/dist-packages (from spacy>=3.2.3->pke==2.0.0) (2.0.8)\n",
            "Requirement already satisfied: preshed<3.1.0,>=3.0.2 in /usr/local/lib/python3.10/dist-packages (from spacy>=3.2.3->pke==2.0.0) (3.0.9)\n",
            "Requirement already satisfied: thinc<8.3.0,>=8.2.2 in /usr/local/lib/python3.10/dist-packages (from spacy>=3.2.3->pke==2.0.0) (8.2.5)\n",
            "Requirement already satisfied: wasabi<1.2.0,>=0.9.1 in /usr/local/lib/python3.10/dist-packages (from spacy>=3.2.3->pke==2.0.0) (1.1.3)\n",
            "Requirement already satisfied: srsly<3.0.0,>=2.4.3 in /usr/local/lib/python3.10/dist-packages (from spacy>=3.2.3->pke==2.0.0) (2.4.8)\n",
            "Requirement already satisfied: catalogue<2.1.0,>=2.0.6 in /usr/local/lib/python3.10/dist-packages (from spacy>=3.2.3->pke==2.0.0) (2.0.10)\n",
            "Requirement already satisfied: weasel<0.5.0,>=0.1.0 in /usr/local/lib/python3.10/dist-packages (from spacy>=3.2.3->pke==2.0.0) (0.4.1)\n",
            "Requirement already satisfied: typer<1.0.0,>=0.3.0 in /usr/local/lib/python3.10/dist-packages (from spacy>=3.2.3->pke==2.0.0) (0.12.3)\n",
            "Requirement already satisfied: tqdm<5.0.0,>=4.38.0 in /usr/local/lib/python3.10/dist-packages (from spacy>=3.2.3->pke==2.0.0) (4.66.4)\n",
            "Requirement already satisfied: requests<3.0.0,>=2.13.0 in /usr/local/lib/python3.10/dist-packages (from spacy>=3.2.3->pke==2.0.0) (2.31.0)\n",
            "Requirement already satisfied: pydantic!=1.8,!=1.8.1,<3.0.0,>=1.7.4 in /usr/local/lib/python3.10/dist-packages (from spacy>=3.2.3->pke==2.0.0) (2.8.0)\n",
            "Requirement already satisfied: jinja2 in /usr/local/lib/python3.10/dist-packages (from spacy>=3.2.3->pke==2.0.0) (3.1.4)\n",
            "Requirement already satisfied: setuptools in /usr/local/lib/python3.10/dist-packages (from spacy>=3.2.3->pke==2.0.0) (67.7.2)\n",
            "Requirement already satisfied: packaging>=20.0 in /usr/local/lib/python3.10/dist-packages (from spacy>=3.2.3->pke==2.0.0) (24.1)\n",
            "Requirement already satisfied: langcodes<4.0.0,>=3.2.0 in /usr/local/lib/python3.10/dist-packages (from spacy>=3.2.3->pke==2.0.0) (3.4.0)\n",
            "Requirement already satisfied: matplotlib>=3.3 in /usr/local/lib/python3.10/dist-packages (from networkx->pke==2.0.0) (3.7.1)\n",
            "Requirement already satisfied: pandas>=1.1 in /usr/local/lib/python3.10/dist-packages (from networkx->pke==2.0.0) (2.0.3)\n",
            "Requirement already satisfied: click in /usr/local/lib/python3.10/dist-packages (from nltk->pke==2.0.0) (8.1.7)\n",
            "Requirement already satisfied: regex>=2021.8.3 in /usr/local/lib/python3.10/dist-packages (from nltk->pke==2.0.0) (2024.5.15)\n",
            "Requirement already satisfied: threadpoolctl>=2.0.0 in /usr/local/lib/python3.10/dist-packages (from scikit-learn->pke==2.0.0) (3.5.0)\n",
            "Requirement already satisfied: language-data>=1.2 in /usr/local/lib/python3.10/dist-packages (from langcodes<4.0.0,>=3.2.0->spacy>=3.2.3->pke==2.0.0) (1.2.0)\n",
            "Requirement already satisfied: contourpy>=1.0.1 in /usr/local/lib/python3.10/dist-packages (from matplotlib>=3.3->networkx->pke==2.0.0) (1.2.1)\n",
            "Requirement already satisfied: cycler>=0.10 in /usr/local/lib/python3.10/dist-packages (from matplotlib>=3.3->networkx->pke==2.0.0) (0.12.1)\n",
            "Requirement already satisfied: fonttools>=4.22.0 in /usr/local/lib/python3.10/dist-packages (from matplotlib>=3.3->networkx->pke==2.0.0) (4.53.0)\n",
            "Requirement already satisfied: kiwisolver>=1.0.1 in /usr/local/lib/python3.10/dist-packages (from matplotlib>=3.3->networkx->pke==2.0.0) (1.4.5)\n",
            "Requirement already satisfied: pillow>=6.2.0 in /usr/local/lib/python3.10/dist-packages (from matplotlib>=3.3->networkx->pke==2.0.0) (9.4.0)\n",
            "Requirement already satisfied: pyparsing>=2.3.1 in /usr/local/lib/python3.10/dist-packages (from matplotlib>=3.3->networkx->pke==2.0.0) (3.1.2)\n",
            "Requirement already satisfied: python-dateutil>=2.7 in /usr/local/lib/python3.10/dist-packages (from matplotlib>=3.3->networkx->pke==2.0.0) (2.8.2)\n",
            "Requirement already satisfied: pytz>=2020.1 in /usr/local/lib/python3.10/dist-packages (from pandas>=1.1->networkx->pke==2.0.0) (2023.4)\n",
            "Requirement already satisfied: tzdata>=2022.1 in /usr/local/lib/python3.10/dist-packages (from pandas>=1.1->networkx->pke==2.0.0) (2024.1)\n",
            "Requirement already satisfied: annotated-types>=0.4.0 in /usr/local/lib/python3.10/dist-packages (from pydantic!=1.8,!=1.8.1,<3.0.0,>=1.7.4->spacy>=3.2.3->pke==2.0.0) (0.7.0)\n",
            "Requirement already satisfied: pydantic-core==2.20.0 in /usr/local/lib/python3.10/dist-packages (from pydantic!=1.8,!=1.8.1,<3.0.0,>=1.7.4->spacy>=3.2.3->pke==2.0.0) (2.20.0)\n",
            "Requirement already satisfied: typing-extensions>=4.6.1 in /usr/local/lib/python3.10/dist-packages (from pydantic!=1.8,!=1.8.1,<3.0.0,>=1.7.4->spacy>=3.2.3->pke==2.0.0) (4.12.2)\n",
            "Requirement already satisfied: charset-normalizer<4,>=2 in /usr/local/lib/python3.10/dist-packages (from requests<3.0.0,>=2.13.0->spacy>=3.2.3->pke==2.0.0) (3.3.2)\n",
            "Requirement already satisfied: idna<4,>=2.5 in /usr/local/lib/python3.10/dist-packages (from requests<3.0.0,>=2.13.0->spacy>=3.2.3->pke==2.0.0) (3.7)\n",
            "Requirement already satisfied: urllib3<3,>=1.21.1 in /usr/local/lib/python3.10/dist-packages (from requests<3.0.0,>=2.13.0->spacy>=3.2.3->pke==2.0.0) (2.0.7)\n",
            "Requirement already satisfied: certifi>=2017.4.17 in /usr/local/lib/python3.10/dist-packages (from requests<3.0.0,>=2.13.0->spacy>=3.2.3->pke==2.0.0) (2024.6.2)\n",
            "Requirement already satisfied: blis<0.8.0,>=0.7.8 in /usr/local/lib/python3.10/dist-packages (from thinc<8.3.0,>=8.2.2->spacy>=3.2.3->pke==2.0.0) (0.7.11)\n",
            "Requirement already satisfied: confection<1.0.0,>=0.0.1 in /usr/local/lib/python3.10/dist-packages (from thinc<8.3.0,>=8.2.2->spacy>=3.2.3->pke==2.0.0) (0.1.5)\n",
            "Requirement already satisfied: shellingham>=1.3.0 in /usr/local/lib/python3.10/dist-packages (from typer<1.0.0,>=0.3.0->spacy>=3.2.3->pke==2.0.0) (1.5.4)\n",
            "Requirement already satisfied: rich>=10.11.0 in /usr/local/lib/python3.10/dist-packages (from typer<1.0.0,>=0.3.0->spacy>=3.2.3->pke==2.0.0) (13.7.1)\n",
            "Requirement already satisfied: cloudpathlib<1.0.0,>=0.7.0 in /usr/local/lib/python3.10/dist-packages (from weasel<0.5.0,>=0.1.0->spacy>=3.2.3->pke==2.0.0) (0.18.1)\n",
            "Requirement already satisfied: smart-open<8.0.0,>=5.2.1 in /usr/local/lib/python3.10/dist-packages (from weasel<0.5.0,>=0.1.0->spacy>=3.2.3->pke==2.0.0) (7.0.4)\n",
            "Requirement already satisfied: MarkupSafe>=2.0 in /usr/local/lib/python3.10/dist-packages (from jinja2->spacy>=3.2.3->pke==2.0.0) (2.1.5)\n",
            "Requirement already satisfied: marisa-trie>=0.7.7 in /usr/local/lib/python3.10/dist-packages (from language-data>=1.2->langcodes<4.0.0,>=3.2.0->spacy>=3.2.3->pke==2.0.0) (1.2.0)\n",
            "Requirement already satisfied: six>=1.5 in /usr/local/lib/python3.10/dist-packages (from python-dateutil>=2.7->matplotlib>=3.3->networkx->pke==2.0.0) (1.16.0)\n",
            "Requirement already satisfied: markdown-it-py>=2.2.0 in /usr/local/lib/python3.10/dist-packages (from rich>=10.11.0->typer<1.0.0,>=0.3.0->spacy>=3.2.3->pke==2.0.0) (3.0.0)\n",
            "Requirement already satisfied: pygments<3.0.0,>=2.13.0 in /usr/local/lib/python3.10/dist-packages (from rich>=10.11.0->typer<1.0.0,>=0.3.0->spacy>=3.2.3->pke==2.0.0) (2.16.1)\n",
            "Requirement already satisfied: wrapt in /usr/local/lib/python3.10/dist-packages (from smart-open<8.0.0,>=5.2.1->weasel<0.5.0,>=0.1.0->spacy>=3.2.3->pke==2.0.0) (1.14.1)\n",
            "Requirement already satisfied: mdurl~=0.1 in /usr/local/lib/python3.10/dist-packages (from markdown-it-py>=2.2.0->rich>=10.11.0->typer<1.0.0,>=0.3.0->spacy>=3.2.3->pke==2.0.0) (0.1.2)\n",
            "\u001b[33mWARNING: Ignoring invalid distribution -etworkx (/usr/local/lib/python3.10/dist-packages)\u001b[0m\u001b[33m\n",
            "\u001b[0m"
          ]
        }
      ],
      "source": [
        "!pip install --quiet flashtext==2.7\n",
        "!pip install git+https://github.com/boudinfl/pke.git\n"
      ]
    },
    {
      "cell_type": "code",
      "source": [
        "!pip install scipy==1.8.0\n",
        "!pip install networkx==2.6"
      ],
      "metadata": {
        "colab": {
          "base_uri": "https://localhost:8080/"
        },
        "id": "zPpjeu-0lylc",
        "outputId": "a3f1948d-16b9-49d7-9611-9db99e63bc44"
      },
      "execution_count": 14,
      "outputs": [
        {
          "output_type": "stream",
          "name": "stdout",
          "text": [
            "\u001b[33mWARNING: Ignoring invalid distribution -etworkx (/usr/local/lib/python3.10/dist-packages)\u001b[0m\u001b[33m\n",
            "\u001b[0mRequirement already satisfied: scipy==1.8.0 in /usr/local/lib/python3.10/dist-packages (1.8.0)\n",
            "Requirement already satisfied: numpy<1.25.0,>=1.17.3 in /usr/local/lib/python3.10/dist-packages (from scipy==1.8.0) (1.24.4)\n",
            "\u001b[33mWARNING: Ignoring invalid distribution -etworkx (/usr/local/lib/python3.10/dist-packages)\u001b[0m\u001b[33m\n",
            "\u001b[0m\u001b[33mWARNING: Ignoring invalid distribution -etworkx (/usr/local/lib/python3.10/dist-packages)\u001b[0m\u001b[33m\n",
            "\u001b[0mRequirement already satisfied: networkx==2.6 in /usr/local/lib/python3.10/dist-packages (2.6)\n",
            "Requirement already satisfied: numpy>=1.19 in /usr/local/lib/python3.10/dist-packages (from networkx==2.6) (1.24.4)\n",
            "Requirement already satisfied: scipy!=1.6.1,>=1.5 in /usr/local/lib/python3.10/dist-packages (from networkx==2.6) (1.8.0)\n",
            "Requirement already satisfied: matplotlib>=3.3 in /usr/local/lib/python3.10/dist-packages (from networkx==2.6) (3.7.1)\n",
            "Requirement already satisfied: pandas>=1.1 in /usr/local/lib/python3.10/dist-packages (from networkx==2.6) (2.0.3)\n",
            "Requirement already satisfied: contourpy>=1.0.1 in /usr/local/lib/python3.10/dist-packages (from matplotlib>=3.3->networkx==2.6) (1.2.1)\n",
            "Requirement already satisfied: cycler>=0.10 in /usr/local/lib/python3.10/dist-packages (from matplotlib>=3.3->networkx==2.6) (0.12.1)\n",
            "Requirement already satisfied: fonttools>=4.22.0 in /usr/local/lib/python3.10/dist-packages (from matplotlib>=3.3->networkx==2.6) (4.53.0)\n",
            "Requirement already satisfied: kiwisolver>=1.0.1 in /usr/local/lib/python3.10/dist-packages (from matplotlib>=3.3->networkx==2.6) (1.4.5)\n",
            "Requirement already satisfied: packaging>=20.0 in /usr/local/lib/python3.10/dist-packages (from matplotlib>=3.3->networkx==2.6) (24.1)\n",
            "Requirement already satisfied: pillow>=6.2.0 in /usr/local/lib/python3.10/dist-packages (from matplotlib>=3.3->networkx==2.6) (9.4.0)\n",
            "Requirement already satisfied: pyparsing>=2.3.1 in /usr/local/lib/python3.10/dist-packages (from matplotlib>=3.3->networkx==2.6) (3.1.2)\n",
            "Requirement already satisfied: python-dateutil>=2.7 in /usr/local/lib/python3.10/dist-packages (from matplotlib>=3.3->networkx==2.6) (2.8.2)\n",
            "Requirement already satisfied: pytz>=2020.1 in /usr/local/lib/python3.10/dist-packages (from pandas>=1.1->networkx==2.6) (2023.4)\n",
            "Requirement already satisfied: tzdata>=2022.1 in /usr/local/lib/python3.10/dist-packages (from pandas>=1.1->networkx==2.6) (2024.1)\n",
            "Requirement already satisfied: six>=1.5 in /usr/local/lib/python3.10/dist-packages (from python-dateutil>=2.7->matplotlib>=3.3->networkx==2.6) (1.16.0)\n",
            "\u001b[33mWARNING: Ignoring invalid distribution -etworkx (/usr/local/lib/python3.10/dist-packages)\u001b[0m\u001b[33m\n",
            "\u001b[0m"
          ]
        }
      ]
    },
    {
      "cell_type": "code",
      "source": [
        "!python -m spacy info"
      ],
      "metadata": {
        "colab": {
          "base_uri": "https://localhost:8080/"
        },
        "id": "cec3UlCYomyQ",
        "outputId": "100ecea4-6bf5-4aae-a140-f8a22b638c02"
      },
      "execution_count": 15,
      "outputs": [
        {
          "output_type": "stream",
          "name": "stdout",
          "text": [
            "\u001b[1m\n",
            "============================== Info about spaCy ==============================\u001b[0m\n",
            "\n",
            "spaCy version    3.7.5                         \n",
            "Location         /usr/local/lib/python3.10/dist-packages/spacy\n",
            "Platform         Linux-6.1.85+-x86_64-with-glibc2.35\n",
            "Python version   3.10.12                       \n",
            "Pipelines        en_core_web_sm (3.7.1)        \n",
            "\n"
          ]
        }
      ]
    },
    {
      "cell_type": "code",
      "source": [
        "import textwrap\n",
        "text = \"\"\"There is a lot of volcanic activity at divergent plate boundaries in the oceans. For example, many undersea volcanoes are found along the Mid-Atlantic Ridge. This is a divergent plate boundary that runs north-south through the middle of the Atlantic Ocean. As tectonic plates pull away from each other at a divergent plate boundary, they create deep fissures, or cracks, in the crust. Molten rock, called magma, erupts through these cracks onto Earth’s surface. At the surface, the molten rock is called lava. It cools and hardens, forming rock. Divergent plate boundaries also occur in the continental crust. Volcanoes form at these boundaries, but less often than in ocean crust. That’s because continental crust is thicker than oceanic crust. This makes it more difficult for molten rock to push up through the crust. Many volcanoes form along convergent plate boundaries where one tectonic plate is pulled down beneath another at a subduction zone. The leading edge of the plate melts as it is pulled into the mantle, forming magma that erupts as volcanoes. When a line of volcanoes forms along a subduction zone, they make up a volcanic arc. The edges of the Pacific plate are long subduction zones lined with volcanoes. This is why the Pacific rim is called the “Pacific Ring of Fire.”\"\"\"\n",
        "\n",
        "wrapper = textwrap.TextWrapper(width=150)\n",
        "word_list = wrapper.wrap(text=text)\n",
        "for element in word_list:\n",
        "  print(element)\n"
      ],
      "metadata": {
        "colab": {
          "base_uri": "https://localhost:8080/"
        },
        "id": "kOsxPk3BonEe",
        "outputId": "ff3317af-78ee-4918-e05d-14a6066d7ab8"
      },
      "execution_count": 16,
      "outputs": [
        {
          "output_type": "stream",
          "name": "stdout",
          "text": [
            "There is a lot of volcanic activity at divergent plate boundaries in the oceans. For example, many undersea volcanoes are found along the Mid-Atlantic\n",
            "Ridge. This is a divergent plate boundary that runs north-south through the middle of the Atlantic Ocean. As tectonic plates pull away from each other\n",
            "at a divergent plate boundary, they create deep fissures, or cracks, in the crust. Molten rock, called magma, erupts through these cracks onto Earth’s\n",
            "surface. At the surface, the molten rock is called lava. It cools and hardens, forming rock. Divergent plate boundaries also occur in the continental\n",
            "crust. Volcanoes form at these boundaries, but less often than in ocean crust. That’s because continental crust is thicker than oceanic crust. This\n",
            "makes it more difficult for molten rock to push up through the crust. Many volcanoes form along convergent plate boundaries where one tectonic plate\n",
            "is pulled down beneath another at a subduction zone. The leading edge of the plate melts as it is pulled into the mantle, forming magma that erupts as\n",
            "volcanoes. When a line of volcanoes forms along a subduction zone, they make up a volcanic arc. The edges of the Pacific plate are long subduction\n",
            "zones lined with volcanoes. This is why the Pacific rim is called the “Pacific Ring of Fire.”\n"
          ]
        }
      ]
    },
    {
      "cell_type": "code",
      "source": [
        "import json\n",
        "import requests\n",
        "import string\n",
        "import re\n",
        "import nltk\n",
        "import string\n",
        "import itertools\n",
        "nltk.download('stopwords')\n",
        "nltk.download('wordnet')\n",
        "nltk.download('punkt')\n",
        "import pke\n",
        "from nltk.corpus import stopwords\n",
        "from nltk.corpus import wordnet\n",
        "import traceback\n",
        "from nltk.tokenize import sent_tokenize\n",
        "from flashtext import KeywordProcessor\n"
      ],
      "metadata": {
        "colab": {
          "base_uri": "https://localhost:8080/"
        },
        "id": "eZB-dgfSonUT",
        "outputId": "23f5e305-fdaf-47f9-cf1d-6d1e84910500"
      },
      "execution_count": 17,
      "outputs": [
        {
          "output_type": "stream",
          "name": "stderr",
          "text": [
            "[nltk_data] Downloading package stopwords to /root/nltk_data...\n",
            "[nltk_data]   Package stopwords is already up-to-date!\n",
            "[nltk_data] Downloading package wordnet to /root/nltk_data...\n",
            "[nltk_data]   Package wordnet is already up-to-date!\n",
            "[nltk_data] Downloading package punkt to /root/nltk_data...\n",
            "[nltk_data]   Package punkt is already up-to-date!\n"
          ]
        }
      ]
    },
    {
      "cell_type": "code",
      "source": [
        "def tokenize_sentences(text):\n",
        "    sentences = sent_tokenize(text)\n",
        "    sentences = [sentence.strip() for sentence in sentences if len(sentence) > 20]\n",
        "    return sentences\n",
        "\n",
        "sentences = tokenize_sentences(text)\n",
        "print (sentences)"
      ],
      "metadata": {
        "colab": {
          "base_uri": "https://localhost:8080/"
        },
        "id": "06Z0WdESonj9",
        "outputId": "5e2e524e-ec72-4a95-f0d6-6210f12c3295"
      },
      "execution_count": 18,
      "outputs": [
        {
          "output_type": "stream",
          "name": "stdout",
          "text": [
            "['There is a lot of volcanic activity at divergent plate boundaries in the oceans.', 'For example, many undersea volcanoes are found along the Mid-Atlantic Ridge.', 'This is a divergent plate boundary that runs north-south through the middle of the Atlantic Ocean.', 'As tectonic plates pull away from each other at a divergent plate boundary, they create deep fissures, or cracks, in the crust.', 'Molten rock, called magma, erupts through these cracks onto Earth’s surface.', 'At the surface, the molten rock is called lava.', 'It cools and hardens, forming rock.', 'Divergent plate boundaries also occur in the continental crust.', 'Volcanoes form at these boundaries, but less often than in ocean crust.', 'That’s because continental crust is thicker than oceanic crust.', 'This makes it more difficult for molten rock to push up through the crust.', 'Many volcanoes form along convergent plate boundaries where one tectonic plate is pulled down beneath another at a subduction zone.', 'The leading edge of the plate melts as it is pulled into the mantle, forming magma that erupts as volcanoes.', 'When a line of volcanoes forms along a subduction zone, they make up a volcanic arc.', 'The edges of the Pacific plate are long subduction zones lined with volcanoes.', 'This is why the Pacific rim is called the “Pacific Ring of Fire.”']\n"
          ]
        }
      ]
    },
    {
      "cell_type": "code",
      "source": [
        "def get_noun_adj_verb(text):\n",
        "    out=[]\n",
        "    try:\n",
        "        extractor = pke.unsupervised.MultipartiteRank()\n",
        "        extractor.load_document(input=text,language='en')\n",
        "        #    not contain punctuation marks or stopwords as candidates.\n",
        "        pos = {'VERB', 'ADJ', 'NOUN'}\n",
        "        stoplist = list(string.punctuation)\n",
        "        stoplist += ['-lrb-', '-rrb-', '-lcb-', '-rcb-', '-lsb-', '-rsb-']\n",
        "        stoplist += stopwords.words('english')\n",
        "        # extractor.candidate_selection(pos=pos, stoplist=stoplist)\n",
        "        extractor.candidate_selection(pos=pos)\n",
        "        # 4. build the Multipartite graph and rank candidates using random walk,\n",
        "        #    alpha controls the weight adjustment mechanism, see TopicRank for\n",
        "        #    threshold/method parameters.\n",
        "        extractor.candidate_weighting(alpha=1.1,\n",
        "                                      threshold=0.75,\n",
        "                                      method='average')\n",
        "        keyphrases = extractor.get_n_best(n=30)\n",
        "\n",
        "\n",
        "        for val in keyphrases:\n",
        "            out.append(val[0])\n",
        "    except:\n",
        "        out = []\n",
        "        traceback.print_exc()\n",
        "\n",
        "    return out\n",
        "\n",
        "noun_verbs_adj = get_noun_adj_verb(text)\n",
        "print (\"keywords: \",noun_verbs_adj)"
      ],
      "metadata": {
        "colab": {
          "base_uri": "https://localhost:8080/"
        },
        "id": "rK0ytOUoonxj",
        "outputId": "b9bca092-82a2-4b0c-a344-6d31ccdb7304"
      },
      "execution_count": 19,
      "outputs": [
        {
          "output_type": "stream",
          "name": "stdout",
          "text": [
            "keywords:  ['divergent plate boundaries', 'crust', 'molten rock', 'tectonic plates pull', 'volcanoes form', 'oceans', 'called magma', 'forming rock', 'erupts', 'cracks', 'volcanic activity', 'subduction zone', 'surface', 'continental crust', 'ocean crust', 'makes', 'pulled', 'leading edge', 'hardens', 'example', 'runs north-south', 'cools', 'create deep fissures', 'volcanoes', 'occur', 'lot', 'called lava', 'middle', 'found', 'push']\n"
          ]
        }
      ]
    },
    {
      "cell_type": "code",
      "source": [
        "from pprint import pprint\n",
        "def get_sentences_for_keyword(keywords, sentences):\n",
        "    keyword_processor = KeywordProcessor()\n",
        "    keyword_sentences = {}\n",
        "    for word in keywords:\n",
        "        keyword_sentences[word] = []\n",
        "        keyword_processor.add_keyword(word)\n",
        "    for sentence in sentences:\n",
        "        keywords_found = keyword_processor.extract_keywords(sentence)\n",
        "        for key in keywords_found:\n",
        "            keyword_sentences[key].append(sentence)\n",
        "\n",
        "    for key in keyword_sentences.keys():\n",
        "        values = keyword_sentences[key]\n",
        "        values = sorted(values, key=len, reverse=True)\n",
        "        keyword_sentences[key] = values\n",
        "    return keyword_sentences\n",
        "\n",
        "keyword_sentence_mapping_noun_verbs_adj = get_sentences_for_keyword(noun_verbs_adj, sentences)\n",
        "pprint (keyword_sentence_mapping_noun_verbs_adj)"
      ],
      "metadata": {
        "colab": {
          "base_uri": "https://localhost:8080/"
        },
        "id": "thJOK__yon-1",
        "outputId": "4b8ae584-1252-4ed1-e872-35cc07d7d45f"
      },
      "execution_count": 20,
      "outputs": [
        {
          "output_type": "stream",
          "name": "stdout",
          "text": [
            "{'called lava': ['At the surface, the molten rock is called lava.'],\n",
            " 'called magma': ['Molten rock, called magma, erupts through these cracks onto '\n",
            "                  'Earth’s surface.'],\n",
            " 'continental crust': ['Divergent plate boundaries also occur in the '\n",
            "                       'continental crust.',\n",
            "                       'That’s because continental crust is thicker than '\n",
            "                       'oceanic crust.'],\n",
            " 'cools': ['It cools and hardens, forming rock.'],\n",
            " 'cracks': ['As tectonic plates pull away from each other at a divergent plate '\n",
            "            'boundary, they create deep fissures, or cracks, in the crust.',\n",
            "            'Molten rock, called magma, erupts through these cracks onto '\n",
            "            'Earth’s surface.'],\n",
            " 'create deep fissures': ['As tectonic plates pull away from each other at a '\n",
            "                          'divergent plate boundary, they create deep '\n",
            "                          'fissures, or cracks, in the crust.'],\n",
            " 'crust': ['As tectonic plates pull away from each other at a divergent plate '\n",
            "           'boundary, they create deep fissures, or cracks, in the crust.',\n",
            "           'This makes it more difficult for molten rock to push up through '\n",
            "           'the crust.',\n",
            "           'That’s because continental crust is thicker than oceanic crust.'],\n",
            " 'divergent plate boundaries': ['There is a lot of volcanic activity at '\n",
            "                                'divergent plate boundaries in the oceans.',\n",
            "                                'Divergent plate boundaries also occur in the '\n",
            "                                'continental crust.'],\n",
            " 'erupts': ['The leading edge of the plate melts as it is pulled into the '\n",
            "            'mantle, forming magma that erupts as volcanoes.',\n",
            "            'Molten rock, called magma, erupts through these cracks onto '\n",
            "            'Earth’s surface.'],\n",
            " 'example': ['For example, many undersea volcanoes are found along the '\n",
            "             'Mid-Atlantic Ridge.'],\n",
            " 'forming rock': ['It cools and hardens, forming rock.'],\n",
            " 'found': ['For example, many undersea volcanoes are found along the '\n",
            "           'Mid-Atlantic Ridge.'],\n",
            " 'hardens': ['It cools and hardens, forming rock.'],\n",
            " 'leading edge': ['The leading edge of the plate melts as it is pulled into '\n",
            "                  'the mantle, forming magma that erupts as volcanoes.'],\n",
            " 'lot': ['There is a lot of volcanic activity at divergent plate boundaries in '\n",
            "         'the oceans.'],\n",
            " 'makes': ['This makes it more difficult for molten rock to push up through '\n",
            "           'the crust.'],\n",
            " 'middle': ['This is a divergent plate boundary that runs north-south through '\n",
            "            'the middle of the Atlantic Ocean.'],\n",
            " 'molten rock': ['Molten rock, called magma, erupts through these cracks onto '\n",
            "                 'Earth’s surface.',\n",
            "                 'This makes it more difficult for molten rock to push up '\n",
            "                 'through the crust.',\n",
            "                 'At the surface, the molten rock is called lava.'],\n",
            " 'occur': ['Divergent plate boundaries also occur in the continental crust.'],\n",
            " 'ocean crust': ['Volcanoes form at these boundaries, but less often than in '\n",
            "                 'ocean crust.'],\n",
            " 'oceans': ['There is a lot of volcanic activity at divergent plate boundaries '\n",
            "            'in the oceans.'],\n",
            " 'pulled': ['Many volcanoes form along convergent plate boundaries where one '\n",
            "            'tectonic plate is pulled down beneath another at a subduction '\n",
            "            'zone.',\n",
            "            'The leading edge of the plate melts as it is pulled into the '\n",
            "            'mantle, forming magma that erupts as volcanoes.'],\n",
            " 'push': ['This makes it more difficult for molten rock to push up through the '\n",
            "          'crust.'],\n",
            " 'runs north-south': ['This is a divergent plate boundary that runs '\n",
            "                      'north-south through the middle of the Atlantic Ocean.'],\n",
            " 'subduction zone': ['Many volcanoes form along convergent plate boundaries '\n",
            "                     'where one tectonic plate is pulled down beneath another '\n",
            "                     'at a subduction zone.',\n",
            "                     'When a line of volcanoes forms along a subduction zone, '\n",
            "                     'they make up a volcanic arc.'],\n",
            " 'surface': ['Molten rock, called magma, erupts through these cracks onto '\n",
            "             'Earth’s surface.',\n",
            "             'At the surface, the molten rock is called lava.'],\n",
            " 'tectonic plates pull': ['As tectonic plates pull away from each other at a '\n",
            "                          'divergent plate boundary, they create deep '\n",
            "                          'fissures, or cracks, in the crust.'],\n",
            " 'volcanic activity': ['There is a lot of volcanic activity at divergent plate '\n",
            "                       'boundaries in the oceans.'],\n",
            " 'volcanoes': ['The leading edge of the plate melts as it is pulled into the '\n",
            "               'mantle, forming magma that erupts as volcanoes.',\n",
            "               'When a line of volcanoes forms along a subduction zone, they '\n",
            "               'make up a volcanic arc.',\n",
            "               'The edges of the Pacific plate are long subduction zones lined '\n",
            "               'with volcanoes.',\n",
            "               'For example, many undersea volcanoes are found along the '\n",
            "               'Mid-Atlantic Ridge.'],\n",
            " 'volcanoes form': ['Many volcanoes form along convergent plate boundaries '\n",
            "                    'where one tectonic plate is pulled down beneath another '\n",
            "                    'at a subduction zone.',\n",
            "                    'Volcanoes form at these boundaries, but less often than '\n",
            "                    'in ocean crust.']}\n"
          ]
        }
      ]
    },
    {
      "cell_type": "code",
      "source": [
        "def get_fill_in_the_blanks(sentence_mapping):\n",
        "    out={\"title\":\"Fill in the blanks for these sentences with matching words at the top\"}\n",
        "    blank_sentences = []\n",
        "    processed = []\n",
        "    keys=[]\n",
        "    for key in sentence_mapping:\n",
        "        if len(sentence_mapping[key])>0:\n",
        "            sent = sentence_mapping[key][0]\n",
        "            # Compile a regular expression pattern into a regular expression object, which can be used for matching and other methods\n",
        "            insensitive_sent = re.compile(re.escape(key), re.IGNORECASE)\n",
        "            no_of_replacements =  len(re.findall(re.escape(key),sent,re.IGNORECASE))\n",
        "            line = insensitive_sent.sub(' _________ ', sent)\n",
        "            if (sentence_mapping[key][0] not in processed) and no_of_replacements<2:\n",
        "                blank_sentences.append(line)\n",
        "                processed.append(sentence_mapping[key][0])\n",
        "                keys.append(key)\n",
        "    out[\"sentences\"]=blank_sentences[:10]\n",
        "    out[\"keys\"]=keys[:10]\n",
        "    return out\n",
        "\n",
        "\n",
        "fill_in_the_blanks = get_fill_in_the_blanks(keyword_sentence_mapping_noun_verbs_adj)\n",
        "pprint(fill_in_the_blanks)"
      ],
      "metadata": {
        "colab": {
          "base_uri": "https://localhost:8080/"
        },
        "id": "-tZ9bzaSooM7",
        "outputId": "950bbe47-ad3a-401b-bc5d-b5ddbab83c43"
      },
      "execution_count": 21,
      "outputs": [
        {
          "output_type": "stream",
          "name": "stdout",
          "text": [
            "{'keys': ['divergent plate boundaries',\n",
            "          'crust',\n",
            "          'molten rock',\n",
            "          'volcanoes form',\n",
            "          'forming rock',\n",
            "          'erupts',\n",
            "          'continental crust',\n",
            "          'ocean crust',\n",
            "          'makes',\n",
            "          'example'],\n",
            " 'sentences': ['There is a lot of volcanic activity at  _________  in the '\n",
            "               'oceans.',\n",
            "               'As tectonic plates pull away from each other at a divergent '\n",
            "               'plate boundary, they create deep fissures, or cracks, in the  '\n",
            "               '_________ .',\n",
            "               ' _________ , called magma, erupts through these cracks onto '\n",
            "               'Earth’s surface.',\n",
            "               'Many  _________  along convergent plate boundaries where one '\n",
            "               'tectonic plate is pulled down beneath another at a subduction '\n",
            "               'zone.',\n",
            "               'It cools and hardens,  _________ .',\n",
            "               'The leading edge of the plate melts as it is pulled into the '\n",
            "               'mantle, forming magma that  _________  as volcanoes.',\n",
            "               'Divergent plate boundaries also occur in the  _________ .',\n",
            "               'Volcanoes form at these boundaries, but less often than in  '\n",
            "               '_________ .',\n",
            "               'This  _________  it more difficult for molten rock to push up '\n",
            "               'through the crust.',\n",
            "               'For  _________ , many undersea volcanoes are found along the '\n",
            "               'Mid-Atlantic Ridge.'],\n",
            " 'title': 'Fill in the blanks for these sentences with matching words at the '\n",
            "          'top'}\n"
          ]
        }
      ]
    },
    {
      "cell_type": "code",
      "source": [
        "from IPython.core.display import display, HTML\n",
        "import xml.etree.ElementTree as et\n",
        "import random\n",
        "\n",
        "root = et.Element(\"div\")\n",
        "\n",
        "heading = et.Element(\"h2\")\n",
        "heading.text = fill_in_the_blanks['title']\n",
        "\n",
        "keywords = et.Element(\"ul\")\n",
        "keywords.set('style', 'color:blue;')\n",
        "\n",
        "all_keys = fill_in_the_blanks['keys']\n",
        "random.shuffle(all_keys)\n",
        "for blank in all_keys:\n",
        "  child=et.Element(\"li\")\n",
        "  child.text = blank\n",
        "  keywords.append(child)\n",
        "\n",
        "sentences = et.Element(\"ol\")\n",
        "sentences.set('style', 'color:brown;')\n",
        "for sentence in fill_in_the_blanks['sentences']:\n",
        "  child=et.Element(\"li\")\n",
        "  child.text = sentence\n",
        "  sentences.append(child)\n",
        "  sentences.append(et.Element(\"br\"))\n",
        "  heading_content = et.Element(\"h4\")\n",
        "\n",
        "root.append(heading)\n",
        "heading_content.append(keywords)\n",
        "heading_content.append(sentences)\n",
        "root.append(heading_content)\n",
        "\n",
        "xmlstr = et.tostring(root)\n",
        "xmlstr = xmlstr.decode(\"utf-8\")\n",
        "display(HTML(xmlstr))"
      ],
      "metadata": {
        "colab": {
          "base_uri": "https://localhost:8080/",
          "height": 628
        },
        "id": "6TDGINABpUbP",
        "outputId": "801ca283-3e14-4a13-e4a1-e8fd8ff7fc76"
      },
      "execution_count": 22,
      "outputs": [
        {
          "output_type": "display_data",
          "data": {
            "text/plain": [
              "<IPython.core.display.HTML object>"
            ],
            "text/html": [
              "<div><h2>Fill in the blanks for these sentences with matching words at the top</h2><h4><ul style=\"color:blue;\"><li>crust</li><li>ocean crust</li><li>molten rock</li><li>makes</li><li>volcanoes form</li><li>forming rock</li><li>continental crust</li><li>divergent plate boundaries</li><li>erupts</li><li>example</li></ul><ol style=\"color:brown;\"><li>There is a lot of volcanic activity at  _________  in the oceans.</li><br /><li>As tectonic plates pull away from each other at a divergent plate boundary, they create deep fissures, or cracks, in the  _________ .</li><br /><li> _________ , called magma, erupts through these cracks onto Earth&#8217;s surface.</li><br /><li>Many  _________  along convergent plate boundaries where one tectonic plate is pulled down beneath another at a subduction zone.</li><br /><li>It cools and hardens,  _________ .</li><br /><li>The leading edge of the plate melts as it is pulled into the mantle, forming magma that  _________  as volcanoes.</li><br /><li>Divergent plate boundaries also occur in the  _________ .</li><br /><li>Volcanoes form at these boundaries, but less often than in  _________ .</li><br /><li>This  _________  it more difficult for molten rock to push up through the crust.</li><br /><li>For  _________ , many undersea volcanoes are found along the Mid-Atlantic Ridge.</li><br /></ol></h4></div>"
            ]
          },
          "metadata": {}
        }
      ]
    },
    {
      "cell_type": "code",
      "source": [
        "!pip install gradio"
      ],
      "metadata": {
        "colab": {
          "base_uri": "https://localhost:8080/"
        },
        "id": "Bpix_DliSJLO",
        "outputId": "35fe0efa-683a-41de-cc03-af0b90d66e9c"
      },
      "execution_count": 23,
      "outputs": [
        {
          "output_type": "stream",
          "name": "stdout",
          "text": [
            "\u001b[33mWARNING: Ignoring invalid distribution -etworkx (/usr/local/lib/python3.10/dist-packages)\u001b[0m\u001b[33m\n",
            "\u001b[0mRequirement already satisfied: gradio in /usr/local/lib/python3.10/dist-packages (4.37.2)\n",
            "Requirement already satisfied: aiofiles<24.0,>=22.0 in /usr/local/lib/python3.10/dist-packages (from gradio) (23.2.1)\n",
            "Requirement already satisfied: altair<6.0,>=4.2.0 in /usr/local/lib/python3.10/dist-packages (from gradio) (4.2.2)\n",
            "Requirement already satisfied: fastapi in /usr/local/lib/python3.10/dist-packages (from gradio) (0.111.0)\n",
            "Requirement already satisfied: ffmpy in /usr/local/lib/python3.10/dist-packages (from gradio) (0.3.2)\n",
            "Requirement already satisfied: gradio-client==1.0.2 in /usr/local/lib/python3.10/dist-packages (from gradio) (1.0.2)\n",
            "Requirement already satisfied: httpx>=0.24.1 in /usr/local/lib/python3.10/dist-packages (from gradio) (0.27.0)\n",
            "Requirement already satisfied: huggingface-hub>=0.19.3 in /usr/local/lib/python3.10/dist-packages (from gradio) (0.23.4)\n",
            "Requirement already satisfied: importlib-resources<7.0,>=1.3 in /usr/local/lib/python3.10/dist-packages (from gradio) (6.4.0)\n",
            "Requirement already satisfied: jinja2<4.0 in /usr/local/lib/python3.10/dist-packages (from gradio) (3.1.4)\n",
            "Requirement already satisfied: markupsafe~=2.0 in /usr/local/lib/python3.10/dist-packages (from gradio) (2.1.5)\n",
            "Requirement already satisfied: matplotlib~=3.0 in /usr/local/lib/python3.10/dist-packages (from gradio) (3.7.1)\n",
            "Requirement already satisfied: numpy<3.0,>=1.0 in /usr/local/lib/python3.10/dist-packages (from gradio) (1.24.4)\n",
            "Requirement already satisfied: orjson~=3.0 in /usr/local/lib/python3.10/dist-packages (from gradio) (3.10.6)\n",
            "Requirement already satisfied: packaging in /usr/local/lib/python3.10/dist-packages (from gradio) (24.1)\n",
            "Requirement already satisfied: pandas<3.0,>=1.0 in /usr/local/lib/python3.10/dist-packages (from gradio) (2.0.3)\n",
            "Requirement already satisfied: pillow<11.0,>=8.0 in /usr/local/lib/python3.10/dist-packages (from gradio) (9.4.0)\n",
            "Requirement already satisfied: pydantic>=2.0 in /usr/local/lib/python3.10/dist-packages (from gradio) (2.8.0)\n",
            "Requirement already satisfied: pydub in /usr/local/lib/python3.10/dist-packages (from gradio) (0.25.1)\n",
            "Requirement already satisfied: python-multipart>=0.0.9 in /usr/local/lib/python3.10/dist-packages (from gradio) (0.0.9)\n",
            "Requirement already satisfied: pyyaml<7.0,>=5.0 in /usr/local/lib/python3.10/dist-packages (from gradio) (6.0.1)\n",
            "Requirement already satisfied: ruff>=0.2.2 in /usr/local/lib/python3.10/dist-packages (from gradio) (0.5.1)\n",
            "Requirement already satisfied: semantic-version~=2.0 in /usr/local/lib/python3.10/dist-packages (from gradio) (2.10.0)\n",
            "Requirement already satisfied: tomlkit==0.12.0 in /usr/local/lib/python3.10/dist-packages (from gradio) (0.12.0)\n",
            "Requirement already satisfied: typer<1.0,>=0.12 in /usr/local/lib/python3.10/dist-packages (from gradio) (0.12.3)\n",
            "Requirement already satisfied: typing-extensions~=4.0 in /usr/local/lib/python3.10/dist-packages (from gradio) (4.12.2)\n",
            "Requirement already satisfied: urllib3~=2.0 in /usr/local/lib/python3.10/dist-packages (from gradio) (2.0.7)\n",
            "Requirement already satisfied: uvicorn>=0.14.0 in /usr/local/lib/python3.10/dist-packages (from gradio) (0.30.1)\n",
            "Requirement already satisfied: fsspec in /usr/local/lib/python3.10/dist-packages (from gradio-client==1.0.2->gradio) (2023.6.0)\n",
            "Requirement already satisfied: websockets<12.0,>=10.0 in /usr/local/lib/python3.10/dist-packages (from gradio-client==1.0.2->gradio) (11.0.3)\n",
            "Requirement already satisfied: entrypoints in /usr/local/lib/python3.10/dist-packages (from altair<6.0,>=4.2.0->gradio) (0.4)\n",
            "Requirement already satisfied: jsonschema>=3.0 in /usr/local/lib/python3.10/dist-packages (from altair<6.0,>=4.2.0->gradio) (4.19.2)\n",
            "Requirement already satisfied: toolz in /usr/local/lib/python3.10/dist-packages (from altair<6.0,>=4.2.0->gradio) (0.12.1)\n",
            "Requirement already satisfied: anyio in /usr/local/lib/python3.10/dist-packages (from httpx>=0.24.1->gradio) (3.7.1)\n",
            "Requirement already satisfied: certifi in /usr/local/lib/python3.10/dist-packages (from httpx>=0.24.1->gradio) (2024.6.2)\n",
            "Requirement already satisfied: httpcore==1.* in /usr/local/lib/python3.10/dist-packages (from httpx>=0.24.1->gradio) (1.0.5)\n",
            "Requirement already satisfied: idna in /usr/local/lib/python3.10/dist-packages (from httpx>=0.24.1->gradio) (3.7)\n",
            "Requirement already satisfied: sniffio in /usr/local/lib/python3.10/dist-packages (from httpx>=0.24.1->gradio) (1.3.1)\n",
            "Requirement already satisfied: h11<0.15,>=0.13 in /usr/local/lib/python3.10/dist-packages (from httpcore==1.*->httpx>=0.24.1->gradio) (0.14.0)\n",
            "Requirement already satisfied: filelock in /usr/local/lib/python3.10/dist-packages (from huggingface-hub>=0.19.3->gradio) (3.15.4)\n",
            "Requirement already satisfied: requests in /usr/local/lib/python3.10/dist-packages (from huggingface-hub>=0.19.3->gradio) (2.31.0)\n",
            "Requirement already satisfied: tqdm>=4.42.1 in /usr/local/lib/python3.10/dist-packages (from huggingface-hub>=0.19.3->gradio) (4.66.4)\n",
            "Requirement already satisfied: contourpy>=1.0.1 in /usr/local/lib/python3.10/dist-packages (from matplotlib~=3.0->gradio) (1.2.1)\n",
            "Requirement already satisfied: cycler>=0.10 in /usr/local/lib/python3.10/dist-packages (from matplotlib~=3.0->gradio) (0.12.1)\n",
            "Requirement already satisfied: fonttools>=4.22.0 in /usr/local/lib/python3.10/dist-packages (from matplotlib~=3.0->gradio) (4.53.0)\n",
            "Requirement already satisfied: kiwisolver>=1.0.1 in /usr/local/lib/python3.10/dist-packages (from matplotlib~=3.0->gradio) (1.4.5)\n",
            "Requirement already satisfied: pyparsing>=2.3.1 in /usr/local/lib/python3.10/dist-packages (from matplotlib~=3.0->gradio) (3.1.2)\n",
            "Requirement already satisfied: python-dateutil>=2.7 in /usr/local/lib/python3.10/dist-packages (from matplotlib~=3.0->gradio) (2.8.2)\n",
            "Requirement already satisfied: pytz>=2020.1 in /usr/local/lib/python3.10/dist-packages (from pandas<3.0,>=1.0->gradio) (2023.4)\n",
            "Requirement already satisfied: tzdata>=2022.1 in /usr/local/lib/python3.10/dist-packages (from pandas<3.0,>=1.0->gradio) (2024.1)\n",
            "Requirement already satisfied: annotated-types>=0.4.0 in /usr/local/lib/python3.10/dist-packages (from pydantic>=2.0->gradio) (0.7.0)\n",
            "Requirement already satisfied: pydantic-core==2.20.0 in /usr/local/lib/python3.10/dist-packages (from pydantic>=2.0->gradio) (2.20.0)\n",
            "Requirement already satisfied: click>=8.0.0 in /usr/local/lib/python3.10/dist-packages (from typer<1.0,>=0.12->gradio) (8.1.7)\n",
            "Requirement already satisfied: shellingham>=1.3.0 in /usr/local/lib/python3.10/dist-packages (from typer<1.0,>=0.12->gradio) (1.5.4)\n",
            "Requirement already satisfied: rich>=10.11.0 in /usr/local/lib/python3.10/dist-packages (from typer<1.0,>=0.12->gradio) (13.7.1)\n",
            "Requirement already satisfied: starlette<0.38.0,>=0.37.2 in /usr/local/lib/python3.10/dist-packages (from fastapi->gradio) (0.37.2)\n",
            "Requirement already satisfied: fastapi-cli>=0.0.2 in /usr/local/lib/python3.10/dist-packages (from fastapi->gradio) (0.0.4)\n",
            "Requirement already satisfied: ujson!=4.0.2,!=4.1.0,!=4.2.0,!=4.3.0,!=5.0.0,!=5.1.0,>=4.0.1 in /usr/local/lib/python3.10/dist-packages (from fastapi->gradio) (5.10.0)\n",
            "Requirement already satisfied: email_validator>=2.0.0 in /usr/local/lib/python3.10/dist-packages (from fastapi->gradio) (2.2.0)\n",
            "Requirement already satisfied: dnspython>=2.0.0 in /usr/local/lib/python3.10/dist-packages (from email_validator>=2.0.0->fastapi->gradio) (2.6.1)\n",
            "Requirement already satisfied: attrs>=22.2.0 in /usr/local/lib/python3.10/dist-packages (from jsonschema>=3.0->altair<6.0,>=4.2.0->gradio) (23.2.0)\n",
            "Requirement already satisfied: jsonschema-specifications>=2023.03.6 in /usr/local/lib/python3.10/dist-packages (from jsonschema>=3.0->altair<6.0,>=4.2.0->gradio) (2023.12.1)\n",
            "Requirement already satisfied: referencing>=0.28.4 in /usr/local/lib/python3.10/dist-packages (from jsonschema>=3.0->altair<6.0,>=4.2.0->gradio) (0.35.1)\n",
            "Requirement already satisfied: rpds-py>=0.7.1 in /usr/local/lib/python3.10/dist-packages (from jsonschema>=3.0->altair<6.0,>=4.2.0->gradio) (0.18.1)\n",
            "Requirement already satisfied: six>=1.5 in /usr/local/lib/python3.10/dist-packages (from python-dateutil>=2.7->matplotlib~=3.0->gradio) (1.16.0)\n",
            "Requirement already satisfied: markdown-it-py>=2.2.0 in /usr/local/lib/python3.10/dist-packages (from rich>=10.11.0->typer<1.0,>=0.12->gradio) (3.0.0)\n",
            "Requirement already satisfied: pygments<3.0.0,>=2.13.0 in /usr/local/lib/python3.10/dist-packages (from rich>=10.11.0->typer<1.0,>=0.12->gradio) (2.16.1)\n",
            "Requirement already satisfied: exceptiongroup in /usr/local/lib/python3.10/dist-packages (from anyio->httpx>=0.24.1->gradio) (1.2.1)\n",
            "Requirement already satisfied: httptools>=0.5.0 in /usr/local/lib/python3.10/dist-packages (from uvicorn>=0.14.0->gradio) (0.6.1)\n",
            "Requirement already satisfied: python-dotenv>=0.13 in /usr/local/lib/python3.10/dist-packages (from uvicorn>=0.14.0->gradio) (1.0.1)\n",
            "Requirement already satisfied: uvloop!=0.15.0,!=0.15.1,>=0.14.0 in /usr/local/lib/python3.10/dist-packages (from uvicorn>=0.14.0->gradio) (0.19.0)\n",
            "Requirement already satisfied: watchfiles>=0.13 in /usr/local/lib/python3.10/dist-packages (from uvicorn>=0.14.0->gradio) (0.22.0)\n",
            "Requirement already satisfied: charset-normalizer<4,>=2 in /usr/local/lib/python3.10/dist-packages (from requests->huggingface-hub>=0.19.3->gradio) (3.3.2)\n",
            "Requirement already satisfied: mdurl~=0.1 in /usr/local/lib/python3.10/dist-packages (from markdown-it-py>=2.2.0->rich>=10.11.0->typer<1.0,>=0.12->gradio) (0.1.2)\n",
            "\u001b[33mWARNING: Ignoring invalid distribution -etworkx (/usr/local/lib/python3.10/dist-packages)\u001b[0m\u001b[33m\n",
            "\u001b[0m"
          ]
        }
      ]
    },
    {
      "cell_type": "code",
      "source": [
        "import xml.etree.ElementTree as et\n",
        "import random\n",
        "import gradio as gr\n",
        "\n",
        "def fill_in_the_blanks():\n",
        "    root = et.Element(\"div\")\n",
        "\n",
        "    heading = et.Element(\"h2\")\n",
        "    heading.text = \"Fill in the Blanks\"\n",
        "\n",
        "    keywords = et.Element(\"ul\")\n",
        "    keywords.set('style', 'color:blue;')\n",
        "\n",
        "    all_keys = ['the', 'a', 'an', 'this', 'that', 'these', 'those']\n",
        "    random.shuffle(all_keys)\n",
        "    for blank in all_keys:\n",
        "        child = et.Element(\"li\")\n",
        "        child.text = blank\n",
        "        keywords.append(child)\n",
        "\n",
        "    sentences = et.Element(\"ol\")\n",
        "    sentences.set('style', 'color:brown;')\n",
        "    for sentence in ['___ car is mine.', 'I saw ___ movie yesterday.', '___ books are on the table.']:\n",
        "        child = et.Element(\"li\")\n",
        "        child.text = sentence.replace('___', '<span style=\"color: red\">______</span>')\n",
        "        sentences.append(child)\n",
        "        sentences.append(et.Element(\"br\"))\n",
        "\n",
        "    heading_content = et.Element(\"h4\")\n",
        "    heading_content.append(keywords)\n",
        "    heading_content.append(sentences)\n",
        "    root.append(heading)\n",
        "    root.append(heading_content)\n",
        "\n",
        "    xmlstr = et.tostring(root)\n",
        "    xmlstr = xmlstr.decode(\"utf-8\")\n",
        "    return xmlstr\n",
        "\n",
        "iface = gr.Interface(fn=fill_in_the_blanks,\n",
        "                     inputs=None,\n",
        "                     outputs=gr.HTML())\n",
        "iface.launch(share=True)\n"
      ],
      "metadata": {
        "colab": {
          "base_uri": "https://localhost:8080/",
          "height": 591
        },
        "id": "kYbfc9ZB-bZW",
        "outputId": "25056de5-7468-4033-f5b9-16d8acdb6173"
      },
      "execution_count": 24,
      "outputs": [
        {
          "output_type": "stream",
          "name": "stdout",
          "text": [
            "Colab notebook detected. To show errors in colab notebook, set debug=True in launch()\n",
            "Running on public URL: https://ceeabda5c9c010d861.gradio.live\n",
            "\n",
            "This share link expires in 72 hours. For free permanent hosting and GPU upgrades, run `gradio deploy` from Terminal to deploy to Spaces (https://huggingface.co/spaces)\n"
          ]
        },
        {
          "output_type": "display_data",
          "data": {
            "text/plain": [
              "<IPython.core.display.HTML object>"
            ],
            "text/html": [
              "<div><iframe src=\"https://ceeabda5c9c010d861.gradio.live\" width=\"100%\" height=\"500\" allow=\"autoplay; camera; microphone; clipboard-read; clipboard-write;\" frameborder=\"0\" allowfullscreen></iframe></div>"
            ]
          },
          "metadata": {}
        },
        {
          "output_type": "execute_result",
          "data": {
            "text/plain": []
          },
          "metadata": {},
          "execution_count": 24
        }
      ]
    },
    {
      "cell_type": "code",
      "source": [
        "# import xml.etree.ElementTree as et\n",
        "\n",
        "# import random\n",
        "# import gradio as gr\n",
        "\n",
        "# def fill_in_the_blanks():\n",
        "#     root = et.Element(\"div\")\n",
        "\n",
        "#     heading = et.Element(\"h2\")\n",
        "#     heading.text = \"Fill in the Blanks\"\n",
        "\n",
        "#     keywords = et.Element(\"ul\")\n",
        "#     keywords.set('style', 'color:blue;')\n",
        "\n",
        "#     all_keys = ['the', 'a', 'an', 'this', 'that', 'these', 'those']\n",
        "#     random.shuffle(all_keys)\n",
        "#     for blank in all_keys:\n",
        "#         child = et.Element(\"li\")\n",
        "#         child.text = blank\n",
        "#         keywords.append(child)\n",
        "\n",
        "#     sentences = et.Element(\"ol\")\n",
        "#     sentences.set('style', 'color:brown;')\n",
        "#     for sentence in ['___ car is mine.', 'I saw ___ movie yesterday.', '___ books are on the table.']:\n",
        "#         child = et.Element(\"li\")\n",
        "#         child.text = sentence.replace('___', '<span style=\"color: red\">______</span>')\n",
        "#         sentences.append(child)\n",
        "#         sentences.append(et.Element(\"br\"))\n",
        "\n",
        "#     heading_content = et.Element(\"h4\")\n",
        "#     heading_content.append(keywords)\n",
        "#     heading_content.append(sentences)\n",
        "#     root.append(heading)\n",
        "#     root.append(heading_content)\n",
        "\n",
        "#     xmlstr = et.tostring(root)\n",
        "#     xmlstr = xmlstr.decode(\"utf-8\")\n",
        "#     return xmlstr\n",
        "\n",
        "# iface = gr.Interface(fn=fill_in_the_blanks,\n",
        "#                      inputs=None,\n",
        "#                      outputs=gr.outputs.HTML())\n",
        "# iface.launch(share = True)\n"
      ],
      "metadata": {
        "id": "tHQFt-a5R_5a"
      },
      "execution_count": 25,
      "outputs": []
    },
    {
      "cell_type": "code",
      "source": [
        "from xml.dom import minidom\n",
        "prettyxmlstr = minidom.parseString(et.tostring(root)).toprettyxml(indent=\"   \")\n",
        "print (prettyxmlstr)"
      ],
      "metadata": {
        "colab": {
          "base_uri": "https://localhost:8080/"
        },
        "id": "dyp4JDqbpg3Q",
        "outputId": "ac7249c5-bcad-4912-fd16-0a4a354c063a"
      },
      "execution_count": 26,
      "outputs": [
        {
          "output_type": "stream",
          "name": "stdout",
          "text": [
            "<?xml version=\"1.0\" ?>\n",
            "<div>\n",
            "   <h2>Fill in the blanks for these sentences with matching words at the top</h2>\n",
            "   <h4>\n",
            "      <ul style=\"color:blue;\">\n",
            "         <li>crust</li>\n",
            "         <li>ocean crust</li>\n",
            "         <li>molten rock</li>\n",
            "         <li>makes</li>\n",
            "         <li>volcanoes form</li>\n",
            "         <li>forming rock</li>\n",
            "         <li>continental crust</li>\n",
            "         <li>divergent plate boundaries</li>\n",
            "         <li>erupts</li>\n",
            "         <li>example</li>\n",
            "      </ul>\n",
            "      <ol style=\"color:brown;\">\n",
            "         <li>There is a lot of volcanic activity at  _________  in the oceans.</li>\n",
            "         <br/>\n",
            "         <li>As tectonic plates pull away from each other at a divergent plate boundary, they create deep fissures, or cracks, in the  _________ .</li>\n",
            "         <br/>\n",
            "         <li> _________ , called magma, erupts through these cracks onto Earth’s surface.</li>\n",
            "         <br/>\n",
            "         <li>Many  _________  along convergent plate boundaries where one tectonic plate is pulled down beneath another at a subduction zone.</li>\n",
            "         <br/>\n",
            "         <li>It cools and hardens,  _________ .</li>\n",
            "         <br/>\n",
            "         <li>The leading edge of the plate melts as it is pulled into the mantle, forming magma that  _________  as volcanoes.</li>\n",
            "         <br/>\n",
            "         <li>Divergent plate boundaries also occur in the  _________ .</li>\n",
            "         <br/>\n",
            "         <li>Volcanoes form at these boundaries, but less often than in  _________ .</li>\n",
            "         <br/>\n",
            "         <li>This  _________  it more difficult for molten rock to push up through the crust.</li>\n",
            "         <br/>\n",
            "         <li>For  _________ , many undersea volcanoes are found along the Mid-Atlantic Ridge.</li>\n",
            "         <br/>\n",
            "      </ol>\n",
            "   </h4>\n",
            "</div>\n",
            "\n"
          ]
        }
      ]
    },
    {
      "cell_type": "code",
      "source": [
        "import random\n",
        "import gradio as gr\n",
        "\n",
        "def fill_in_the_blank(paragraph):\n",
        "    sentences = paragraph.split('. ')\n",
        "    output = []\n",
        "    for sentence in sentences:\n",
        "        words = sentence.split()\n",
        "        if len(words) > 0:  # Ensure there's at least one word to replace\n",
        "            random_word_index = random.randint(0, len(words)-1)\n",
        "            words[random_word_index] = '_' * len(words[random_word_index])\n",
        "        output.append(' '.join(words))\n",
        "    return '. '.join(output)\n",
        "\n",
        "iface = gr.Interface(fn=fill_in_the_blank,\n",
        "                     inputs=gr.Textbox(label=\"Enter a paragraph\"),\n",
        "                     outputs=gr.Textbox())\n",
        "iface.launch(share=True)\n"
      ],
      "metadata": {
        "colab": {
          "base_uri": "https://localhost:8080/",
          "height": 591
        },
        "id": "QrDX6Vzn_B8_",
        "outputId": "bb81ea3b-8944-47be-ff0f-fe61eed0f70d"
      },
      "execution_count": 28,
      "outputs": [
        {
          "output_type": "stream",
          "name": "stdout",
          "text": [
            "Colab notebook detected. To show errors in colab notebook, set debug=True in launch()\n",
            "Running on public URL: https://3a3dc68a4d9548e76d.gradio.live\n",
            "\n",
            "This share link expires in 72 hours. For free permanent hosting and GPU upgrades, run `gradio deploy` from Terminal to deploy to Spaces (https://huggingface.co/spaces)\n"
          ]
        },
        {
          "output_type": "display_data",
          "data": {
            "text/plain": [
              "<IPython.core.display.HTML object>"
            ],
            "text/html": [
              "<div><iframe src=\"https://3a3dc68a4d9548e76d.gradio.live\" width=\"100%\" height=\"500\" allow=\"autoplay; camera; microphone; clipboard-read; clipboard-write;\" frameborder=\"0\" allowfullscreen></iframe></div>"
            ]
          },
          "metadata": {}
        },
        {
          "output_type": "execute_result",
          "data": {
            "text/plain": []
          },
          "metadata": {},
          "execution_count": 28
        }
      ]
    },
    {
      "cell_type": "code",
      "source": [
        "# import random\n",
        "# import gradio as gr\n",
        "\n",
        "# def fill_in_the_blank(paragraph):\n",
        "#     sentences = paragraph.split('. ')\n",
        "#     output = []\n",
        "#     for sentence in sentences:\n",
        "#         words = sentence.split()\n",
        "#         random_word_index = random.randint(0, len(words)-1)\n",
        "#         words[random_word_index] = '_' * len(words[random_word_index])\n",
        "#         output.append(' '.join(words))\n",
        "#     return '. '.join(output)\n",
        "\n",
        "# iface = gr.Interface(fn=fill_in_the_blank,\n",
        "#                      inputs=gr.inputs.Textbox(label=\"Enter a paragraph\"),\n",
        "#                      outputs=gr.outputs.Textbox())\n",
        "# iface.launch(share = True)\n"
      ],
      "metadata": {
        "colab": {
          "base_uri": "https://localhost:8080/",
          "height": 211
        },
        "id": "8RuOjvj6OJRu",
        "outputId": "14de2114-d72f-4143-c04e-68bc90cccdb9"
      },
      "execution_count": 27,
      "outputs": [
        {
          "output_type": "error",
          "ename": "AttributeError",
          "evalue": "module 'gradio' has no attribute 'inputs'",
          "traceback": [
            "\u001b[0;31m---------------------------------------------------------------------------\u001b[0m",
            "\u001b[0;31mAttributeError\u001b[0m                            Traceback (most recent call last)",
            "\u001b[0;32m<ipython-input-27-10e1ff7bb9c0>\u001b[0m in \u001b[0;36m<cell line: 14>\u001b[0;34m()\u001b[0m\n\u001b[1;32m     13\u001b[0m \u001b[0;34m\u001b[0m\u001b[0m\n\u001b[1;32m     14\u001b[0m iface = gr.Interface(fn=fill_in_the_blank, \n\u001b[0;32m---> 15\u001b[0;31m                      \u001b[0minputs\u001b[0m\u001b[0;34m=\u001b[0m\u001b[0mgr\u001b[0m\u001b[0;34m.\u001b[0m\u001b[0minputs\u001b[0m\u001b[0;34m.\u001b[0m\u001b[0mTextbox\u001b[0m\u001b[0;34m(\u001b[0m\u001b[0mlabel\u001b[0m\u001b[0;34m=\u001b[0m\u001b[0;34m\"Enter a paragraph\"\u001b[0m\u001b[0;34m)\u001b[0m\u001b[0;34m,\u001b[0m\u001b[0;34m\u001b[0m\u001b[0;34m\u001b[0m\u001b[0m\n\u001b[0m\u001b[1;32m     16\u001b[0m                      outputs=gr.outputs.Textbox())\n\u001b[1;32m     17\u001b[0m \u001b[0miface\u001b[0m\u001b[0;34m.\u001b[0m\u001b[0mlaunch\u001b[0m\u001b[0;34m(\u001b[0m\u001b[0mshare\u001b[0m \u001b[0;34m=\u001b[0m \u001b[0;32mTrue\u001b[0m\u001b[0;34m)\u001b[0m\u001b[0;34m\u001b[0m\u001b[0;34m\u001b[0m\u001b[0m\n",
            "\u001b[0;31mAttributeError\u001b[0m: module 'gradio' has no attribute 'inputs'"
          ]
        }
      ]
    },
    {
      "cell_type": "code",
      "source": [],
      "metadata": {
        "id": "-SJEN4Uyb1rx"
      },
      "execution_count": null,
      "outputs": []
    }
  ]
}